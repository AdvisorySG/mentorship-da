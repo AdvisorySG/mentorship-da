{
 "cells": [
  {
   "cell_type": "markdown",
   "metadata": {},
   "source": [
    "### Extracting and Simple Preprocessing\n",
    "\n",
    "What I did:\n",
    "- Extracted tables with bs4, then query, value and percent (link, total visits and % visited) from each tables rows\n",
    "- Expanded values like \"27k\" to 27000 and changed it to integers\n",
    "- Transformed the the data into a new dataframe with one row for each count of value column\n",
    "- Extracted Query Params from query column\n",
    "- Transformed query params to individual columns"
   ]
  },
  {
   "cell_type": "code",
   "execution_count": 3,
   "metadata": {},
   "outputs": [
    {
     "name": "stdout",
     "output_type": "stream",
     "text": [
      "9\n"
     ]
    }
   ],
   "source": [
    "import pandas as pd\n",
    "from bs4 import BeautifulSoup\n",
    "from urllib.parse import urlparse, parse_qs, unquote\n",
    "\n",
    "# read in all data of 9 html files and join them to another html file\n",
    "full_html = []\n",
    "for i in range(1,10):\n",
    "    file = open('./umami/umami-mentorship-all-time-{}.htm'.format(i), \"r\")\n",
    "    html = file.read()\n",
    "    \n",
    "    soup = BeautifulSoup(html, 'lxml')\n",
    "    html_table = str(soup.find('div', attrs={'class': 'DataTable_body__tW6Gx'}))\n",
    "    full_html.append(html_table)\n",
    "\n",
    "print(len(full_html))\n",
    "full_html = \" \".join(full_html)"
   ]
  },
  {
   "cell_type": "code",
   "execution_count": 4,
   "metadata": {},
   "outputs": [
    {
     "name": "stdout",
     "output_type": "stream",
     "text": [
      "9\n"
     ]
    }
   ],
   "source": [
    "soup = BeautifulSoup(full_html, 'lxml')\n",
    "\n",
    "# find table with the class of DataTable_body__tW6Gx\n",
    "tables = soup.find_all('div', attrs={'class': 'DataTable_body__tW6Gx'})\n",
    "\n",
    "print(len(tables))\n",
    "\n",
    "# create df\n",
    "df = pd.DataFrame(columns=['query', 'value', 'percent'])\n",
    "\n",
    "for table in tables:\n",
    "    # goes into every html page's rows\n",
    "    # find all to get all rows in each page\n",
    "    query = table.find_all('div', attrs={'class': 'DataTable_label__nk_tp'})\n",
    "    value = table.find_all('div', attrs={'class': 'DataTable_value__dgeWm'})\n",
    "    percent = table.find_all('div', attrs={'class': 'DataTable_percent__EBsIj'})\n",
    "\n",
    "    # add to df\n",
    "    for i in range(len(query)):\n",
    "        df = pd.concat([df, pd.DataFrame({'query': query[i].text,\n",
    "                                        'value': value[i].text,\n",
    "                                        'percent': percent[i].text},\n",
    "                                        index=[0])], ignore_index=True)"
   ]
  },
  {
   "cell_type": "markdown",
   "metadata": {},
   "source": [
    "Preprocessing"
   ]
  },
  {
   "cell_type": "code",
   "execution_count": 5,
   "metadata": {},
   "outputs": [
    {
     "data": {
      "text/html": [
       "<div>\n",
       "<style scoped>\n",
       "    .dataframe tbody tr th:only-of-type {\n",
       "        vertical-align: middle;\n",
       "    }\n",
       "\n",
       "    .dataframe tbody tr th {\n",
       "        vertical-align: top;\n",
       "    }\n",
       "\n",
       "    .dataframe thead th {\n",
       "        text-align: right;\n",
       "    }\n",
       "</style>\n",
       "<table border=\"1\" class=\"dataframe\">\n",
       "  <thead>\n",
       "    <tr style=\"text-align: right;\">\n",
       "      <th></th>\n",
       "      <th>query</th>\n",
       "      <th>value</th>\n",
       "      <th>percent</th>\n",
       "    </tr>\n",
       "  </thead>\n",
       "  <tbody>\n",
       "    <tr>\n",
       "      <th>0</th>\n",
       "      <td>/?size=n_20_n</td>\n",
       "      <td>27800</td>\n",
       "      <td>25%</td>\n",
       "    </tr>\n",
       "    <tr>\n",
       "      <th>1</th>\n",
       "      <td>/</td>\n",
       "      <td>27800</td>\n",
       "      <td>12%</td>\n",
       "    </tr>\n",
       "    <tr>\n",
       "      <th>2</th>\n",
       "      <td>/?size=n_20_n&amp;filters[0][field]=industries&amp;fil...</td>\n",
       "      <td>13600</td>\n",
       "      <td>1%</td>\n",
       "    </tr>\n",
       "    <tr>\n",
       "      <th>3</th>\n",
       "      <td>/?current=n_2_n&amp;size=n_20_n</td>\n",
       "      <td>13600</td>\n",
       "      <td>1%</td>\n",
       "    </tr>\n",
       "    <tr>\n",
       "      <th>4</th>\n",
       "      <td>/?size=n_60_n</td>\n",
       "      <td>1290</td>\n",
       "      <td>1%</td>\n",
       "    </tr>\n",
       "  </tbody>\n",
       "</table>\n",
       "</div>"
      ],
      "text/plain": [
       "                                               query  value percent\n",
       "0                                      /?size=n_20_n  27800     25%\n",
       "1                                                  /  27800     12%\n",
       "2  /?size=n_20_n&filters[0][field]=industries&fil...  13600      1%\n",
       "3                        /?current=n_2_n&size=n_20_n  13600      1%\n",
       "4                                      /?size=n_60_n   1290      1%"
      ]
     },
     "execution_count": 5,
     "metadata": {},
     "output_type": "execute_result"
    }
   ],
   "source": [
    "def expandValue(value):\n",
    "    if value.endswith('k'):\n",
    "        value = float(value[:-1])\n",
    "        value *= 1000\n",
    "\n",
    "        # change back to integer\n",
    "        value = int(value)\n",
    "    return value\n",
    "\n",
    "df['value'] = df['value'].apply(expandValue)\n",
    "df.head()\n",
    "\n",
    "# show full dataset and pandas show full width everything\n",
    "# pd.set_option('display.max_colwidth', None)"
   ]
  },
  {
   "cell_type": "code",
   "execution_count": 6,
   "metadata": {},
   "outputs": [],
   "source": [
    "df.rename(columns={'query': 'visitor_url'}, inplace=True)\n",
    "\n",
    "def extract_query_params(url):\n",
    "    url = unquote(url)\n",
    "    query_params = parse_qs(urlparse(url).query)\n",
    "    return query_params\n",
    "\n",
    "df['query_params'] = df['visitor_url'].apply(extract_query_params)"
   ]
  },
  {
   "cell_type": "code",
   "execution_count": 7,
   "metadata": {},
   "outputs": [
    {
     "data": {
      "text/html": [
       "<div>\n",
       "<style scoped>\n",
       "    .dataframe tbody tr th:only-of-type {\n",
       "        vertical-align: middle;\n",
       "    }\n",
       "\n",
       "    .dataframe tbody tr th {\n",
       "        vertical-align: top;\n",
       "    }\n",
       "\n",
       "    .dataframe thead th {\n",
       "        text-align: right;\n",
       "    }\n",
       "</style>\n",
       "<table border=\"1\" class=\"dataframe\">\n",
       "  <thead>\n",
       "    <tr style=\"text-align: right;\">\n",
       "      <th></th>\n",
       "      <th>visitor_url</th>\n",
       "      <th>value</th>\n",
       "      <th>percent</th>\n",
       "      <th>query_params</th>\n",
       "      <th>size</th>\n",
       "      <th>filters[0][field]</th>\n",
       "      <th>filters[0][values][0]</th>\n",
       "      <th>filters[0][type]</th>\n",
       "      <th>current</th>\n",
       "      <th>sort-field</th>\n",
       "      <th>...</th>\n",
       "      <th>filters[1][type]</th>\n",
       "      <th>filters[1][values][1]</th>\n",
       "      <th>filters[1][values][2]</th>\n",
       "      <th>filters[1][values][3]</th>\n",
       "      <th>filters[1][values][4]</th>\n",
       "      <th>filters[0][values][2]</th>\n",
       "      <th>filters[0][values][3]</th>\n",
       "      <th>filters[0][values][4]</th>\n",
       "      <th>filters[0][values][5]</th>\n",
       "      <th>filters[0][values][6]</th>\n",
       "    </tr>\n",
       "  </thead>\n",
       "  <tbody>\n",
       "    <tr>\n",
       "      <th>0</th>\n",
       "      <td>/?size=n_20_n</td>\n",
       "      <td>27800</td>\n",
       "      <td>25%</td>\n",
       "      <td>{'size': ['n_20_n']}</td>\n",
       "      <td>[n_20_n]</td>\n",
       "      <td>NaN</td>\n",
       "      <td>NaN</td>\n",
       "      <td>NaN</td>\n",
       "      <td>NaN</td>\n",
       "      <td>NaN</td>\n",
       "      <td>...</td>\n",
       "      <td>NaN</td>\n",
       "      <td>NaN</td>\n",
       "      <td>NaN</td>\n",
       "      <td>NaN</td>\n",
       "      <td>NaN</td>\n",
       "      <td>NaN</td>\n",
       "      <td>NaN</td>\n",
       "      <td>NaN</td>\n",
       "      <td>NaN</td>\n",
       "      <td>NaN</td>\n",
       "    </tr>\n",
       "    <tr>\n",
       "      <th>1</th>\n",
       "      <td>/</td>\n",
       "      <td>27800</td>\n",
       "      <td>12%</td>\n",
       "      <td>{}</td>\n",
       "      <td>NaN</td>\n",
       "      <td>NaN</td>\n",
       "      <td>NaN</td>\n",
       "      <td>NaN</td>\n",
       "      <td>NaN</td>\n",
       "      <td>NaN</td>\n",
       "      <td>...</td>\n",
       "      <td>NaN</td>\n",
       "      <td>NaN</td>\n",
       "      <td>NaN</td>\n",
       "      <td>NaN</td>\n",
       "      <td>NaN</td>\n",
       "      <td>NaN</td>\n",
       "      <td>NaN</td>\n",
       "      <td>NaN</td>\n",
       "      <td>NaN</td>\n",
       "      <td>NaN</td>\n",
       "    </tr>\n",
       "    <tr>\n",
       "      <th>2</th>\n",
       "      <td>/?size=n_20_n&amp;filters[0][field]=industries&amp;fil...</td>\n",
       "      <td>13600</td>\n",
       "      <td>1%</td>\n",
       "      <td>{'size': ['n_20_n'], 'filters[0][field]': ['in...</td>\n",
       "      <td>[n_20_n]</td>\n",
       "      <td>[industries]</td>\n",
       "      <td>[Banking and Finance]</td>\n",
       "      <td>[all]</td>\n",
       "      <td>NaN</td>\n",
       "      <td>NaN</td>\n",
       "      <td>...</td>\n",
       "      <td>NaN</td>\n",
       "      <td>NaN</td>\n",
       "      <td>NaN</td>\n",
       "      <td>NaN</td>\n",
       "      <td>NaN</td>\n",
       "      <td>NaN</td>\n",
       "      <td>NaN</td>\n",
       "      <td>NaN</td>\n",
       "      <td>NaN</td>\n",
       "      <td>NaN</td>\n",
       "    </tr>\n",
       "    <tr>\n",
       "      <th>3</th>\n",
       "      <td>/?current=n_2_n&amp;size=n_20_n</td>\n",
       "      <td>13600</td>\n",
       "      <td>1%</td>\n",
       "      <td>{'current': ['n_2_n'], 'size': ['n_20_n']}</td>\n",
       "      <td>[n_20_n]</td>\n",
       "      <td>NaN</td>\n",
       "      <td>NaN</td>\n",
       "      <td>NaN</td>\n",
       "      <td>[n_2_n]</td>\n",
       "      <td>NaN</td>\n",
       "      <td>...</td>\n",
       "      <td>NaN</td>\n",
       "      <td>NaN</td>\n",
       "      <td>NaN</td>\n",
       "      <td>NaN</td>\n",
       "      <td>NaN</td>\n",
       "      <td>NaN</td>\n",
       "      <td>NaN</td>\n",
       "      <td>NaN</td>\n",
       "      <td>NaN</td>\n",
       "      <td>NaN</td>\n",
       "    </tr>\n",
       "    <tr>\n",
       "      <th>4</th>\n",
       "      <td>/?size=n_60_n</td>\n",
       "      <td>1290</td>\n",
       "      <td>1%</td>\n",
       "      <td>{'size': ['n_60_n']}</td>\n",
       "      <td>[n_60_n]</td>\n",
       "      <td>NaN</td>\n",
       "      <td>NaN</td>\n",
       "      <td>NaN</td>\n",
       "      <td>NaN</td>\n",
       "      <td>NaN</td>\n",
       "      <td>...</td>\n",
       "      <td>NaN</td>\n",
       "      <td>NaN</td>\n",
       "      <td>NaN</td>\n",
       "      <td>NaN</td>\n",
       "      <td>NaN</td>\n",
       "      <td>NaN</td>\n",
       "      <td>NaN</td>\n",
       "      <td>NaN</td>\n",
       "      <td>NaN</td>\n",
       "      <td>NaN</td>\n",
       "    </tr>\n",
       "  </tbody>\n",
       "</table>\n",
       "<p>5 rows × 25 columns</p>\n",
       "</div>"
      ],
      "text/plain": [
       "                                         visitor_url  value percent  \\\n",
       "0                                      /?size=n_20_n  27800     25%   \n",
       "1                                                  /  27800     12%   \n",
       "2  /?size=n_20_n&filters[0][field]=industries&fil...  13600      1%   \n",
       "3                        /?current=n_2_n&size=n_20_n  13600      1%   \n",
       "4                                      /?size=n_60_n   1290      1%   \n",
       "\n",
       "                                        query_params      size  \\\n",
       "0                               {'size': ['n_20_n']}  [n_20_n]   \n",
       "1                                                 {}       NaN   \n",
       "2  {'size': ['n_20_n'], 'filters[0][field]': ['in...  [n_20_n]   \n",
       "3         {'current': ['n_2_n'], 'size': ['n_20_n']}  [n_20_n]   \n",
       "4                               {'size': ['n_60_n']}  [n_60_n]   \n",
       "\n",
       "  filters[0][field]  filters[0][values][0] filters[0][type]  current  \\\n",
       "0               NaN                    NaN              NaN      NaN   \n",
       "1               NaN                    NaN              NaN      NaN   \n",
       "2      [industries]  [Banking and Finance]            [all]      NaN   \n",
       "3               NaN                    NaN              NaN  [n_2_n]   \n",
       "4               NaN                    NaN              NaN      NaN   \n",
       "\n",
       "  sort-field  ... filters[1][type] filters[1][values][1]  \\\n",
       "0        NaN  ...              NaN                   NaN   \n",
       "1        NaN  ...              NaN                   NaN   \n",
       "2        NaN  ...              NaN                   NaN   \n",
       "3        NaN  ...              NaN                   NaN   \n",
       "4        NaN  ...              NaN                   NaN   \n",
       "\n",
       "  filters[1][values][2] filters[1][values][3] filters[1][values][4]  \\\n",
       "0                   NaN                   NaN                   NaN   \n",
       "1                   NaN                   NaN                   NaN   \n",
       "2                   NaN                   NaN                   NaN   \n",
       "3                   NaN                   NaN                   NaN   \n",
       "4                   NaN                   NaN                   NaN   \n",
       "\n",
       "  filters[0][values][2] filters[0][values][3] filters[0][values][4]  \\\n",
       "0                   NaN                   NaN                   NaN   \n",
       "1                   NaN                   NaN                   NaN   \n",
       "2                   NaN                   NaN                   NaN   \n",
       "3                   NaN                   NaN                   NaN   \n",
       "4                   NaN                   NaN                   NaN   \n",
       "\n",
       "  filters[0][values][5] filters[0][values][6]  \n",
       "0                   NaN                   NaN  \n",
       "1                   NaN                   NaN  \n",
       "2                   NaN                   NaN  \n",
       "3                   NaN                   NaN  \n",
       "4                   NaN                   NaN  \n",
       "\n",
       "[5 rows x 25 columns]"
      ]
     },
     "execution_count": 7,
     "metadata": {},
     "output_type": "execute_result"
    }
   ],
   "source": [
    "df = pd.concat([df, df['query_params'].apply(lambda x: pd.Series(x, dtype='object'))], axis=1)\n",
    "\n",
    "df.head()"
   ]
  },
  {
   "cell_type": "code",
   "execution_count": 8,
   "metadata": {},
   "outputs": [
    {
     "name": "stdout",
     "output_type": "stream",
     "text": [
      "Total Queries: 191\n"
     ]
    }
   ],
   "source": [
    "# export df\n",
    "print(\"Total Queries: {}\".format(len(df)))\n",
    "df.to_csv('umami_preprocessed.csv', index=False)"
   ]
  },
  {
   "cell_type": "markdown",
   "metadata": {},
   "source": [
    "If we want the full 115k rows, run the below code."
   ]
  },
  {
   "cell_type": "code",
   "execution_count": 105,
   "metadata": {},
   "outputs": [
    {
     "data": {
      "text/plain": [
       "115517"
      ]
     },
     "execution_count": 105,
     "metadata": {},
     "output_type": "execute_result"
    }
   ],
   "source": [
    "# # sum up all values in value column\n",
    "# df['value'] = df['value'].astype(int)\n",
    "# df['value'].sum()"
   ]
  },
  {
   "cell_type": "code",
   "execution_count": null,
   "metadata": {},
   "outputs": [],
   "source": [
    "# # transform the data into a new dataframe with one row for each count of value column\n",
    "# df['value'] = df['value'].astype(int)\n",
    "# df['copy'] = df['value'].apply(lambda x: list(range(x)))\n",
    "# df = df.explode('copy').drop(columns='value')\n",
    "# df.drop(columns='copy', inplace=True)\n",
    "# df = df.reset_index(drop=True)"
   ]
  }
 ],
 "metadata": {
  "kernelspec": {
   "display_name": "Python 3 (ipykernel)",
   "language": "python",
   "name": "python3"
  },
  "language_info": {
   "codemirror_mode": {
    "name": "ipython",
    "version": 3
   },
   "file_extension": ".py",
   "mimetype": "text/x-python",
   "name": "python",
   "nbconvert_exporter": "python",
   "pygments_lexer": "ipython3",
   "version": "3.9.7"
  },
  "vscode": {
   "interpreter": {
    "hash": "26663b30a87f8b6b521f0a61964c10b31d4c5e2632109eb7f9afdda680fa86bd"
   }
  }
 },
 "nbformat": 4,
 "nbformat_minor": 2
}
