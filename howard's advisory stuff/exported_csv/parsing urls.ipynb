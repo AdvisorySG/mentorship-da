{
 "cells": [
  {
   "cell_type": "code",
   "execution_count": 23,
   "id": "4ba88477",
   "metadata": {},
   "outputs": [],
   "source": [
    "import pandas as pd\n",
    "from urllib.parse import urlparse, parse_qs, unquote"
   ]
  },
  {
   "cell_type": "code",
   "execution_count": 24,
   "id": "c20ad040",
   "metadata": {},
   "outputs": [],
   "source": [
    "original_df = pd.read_csv('v1_pageview')"
   ]
  },
  {
   "cell_type": "code",
   "execution_count": 25,
   "id": "e731453c",
   "metadata": {},
   "outputs": [],
   "source": [
    "def extract_query_params(url):\n",
    "    url = unquote(url)\n",
    "    query_params = parse_qs(urlparse(url).query)\n",
    "    return query_params\n",
    "\n",
    "new_df = original_df.copy() \n",
    "new_df['url'] = new_df['url'].astype(str)\n",
    "new_df['query_params'] = new_df['url'].apply(extract_query_params)\n"
   ]
  },
  {
   "cell_type": "code",
   "execution_count": 26,
   "id": "c7471d8e",
   "metadata": {},
   "outputs": [],
   "source": [
    "x = pd.concat([new_df, new_df['query_params'].apply(pd.Series)], axis=1)"
   ]
  },
  {
   "cell_type": "code",
   "execution_count": 27,
   "id": "57f88523",
   "metadata": {},
   "outputs": [],
   "source": [
    "x.to_csv('data-preprocessed.csv', index=False)"
   ]
  },
  {
   "cell_type": "code",
   "execution_count": null,
   "id": "afede6fa",
   "metadata": {},
   "outputs": [],
   "source": []
  }
 ],
 "metadata": {
  "kernelspec": {
   "display_name": "Python 3 (ipykernel)",
   "language": "python",
   "name": "python3"
  },
  "language_info": {
   "codemirror_mode": {
    "name": "ipython",
    "version": 3
   },
   "file_extension": ".py",
   "mimetype": "text/x-python",
   "name": "python",
   "nbconvert_exporter": "python",
   "pygments_lexer": "ipython3",
   "version": "3.9.7"
  }
 },
 "nbformat": 4,
 "nbformat_minor": 5
}
